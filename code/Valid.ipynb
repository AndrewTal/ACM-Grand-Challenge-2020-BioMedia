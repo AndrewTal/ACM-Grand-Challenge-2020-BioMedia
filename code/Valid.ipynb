{
 "cells": [
  {
   "cell_type": "code",
   "execution_count": 1,
   "metadata": {},
   "outputs": [],
   "source": [
    "import numpy as np\n",
    "import pandas as pd\n",
    "\n",
    "from sklearn.metrics import mean_absolute_error"
   ]
  },
  {
   "cell_type": "code",
   "execution_count": 2,
   "metadata": {},
   "outputs": [],
   "source": [
    "def data_convert(x):\n",
    "    try:\n",
    "        result = float(str(x).replace(',', '.')) if isinstance(x, np.str) else x\n",
    "    except:\n",
    "        result = 0\n",
    "        \n",
    "    return result"
   ]
  },
  {
   "cell_type": "code",
   "execution_count": 4,
   "metadata": {},
   "outputs": [
    {
     "data": {
      "text/html": [
       "<div>\n",
       "<style scoped>\n",
       "    .dataframe tbody tr th:only-of-type {\n",
       "        vertical-align: middle;\n",
       "    }\n",
       "\n",
       "    .dataframe tbody tr th {\n",
       "        vertical-align: top;\n",
       "    }\n",
       "\n",
       "    .dataframe thead th {\n",
       "        text-align: right;\n",
       "    }\n",
       "</style>\n",
       "<table border=\"1\" class=\"dataframe\">\n",
       "  <thead>\n",
       "    <tr style=\"text-align: right;\">\n",
       "      <th></th>\n",
       "      <th>video_id</th>\n",
       "      <th>progressive_%</th>\n",
       "      <th>non_progressive_%</th>\n",
       "      <th>immotile_%</th>\n",
       "    </tr>\n",
       "  </thead>\n",
       "  <tbody>\n",
       "    <tr>\n",
       "      <th>0</th>\n",
       "      <td>1</td>\n",
       "      <td>0.38</td>\n",
       "      <td>0.31</td>\n",
       "      <td>0.12</td>\n",
       "    </tr>\n",
       "    <tr>\n",
       "      <th>1</th>\n",
       "      <td>2</td>\n",
       "      <td>0.28</td>\n",
       "      <td>0.29</td>\n",
       "      <td>0.17</td>\n",
       "    </tr>\n",
       "    <tr>\n",
       "      <th>2</th>\n",
       "      <td>3</td>\n",
       "      <td>0.31</td>\n",
       "      <td>0.30</td>\n",
       "      <td>0.16</td>\n",
       "    </tr>\n",
       "    <tr>\n",
       "      <th>3</th>\n",
       "      <td>4</td>\n",
       "      <td>0.37</td>\n",
       "      <td>0.26</td>\n",
       "      <td>0.15</td>\n",
       "    </tr>\n",
       "    <tr>\n",
       "      <th>4</th>\n",
       "      <td>5</td>\n",
       "      <td>0.30</td>\n",
       "      <td>0.35</td>\n",
       "      <td>0.19</td>\n",
       "    </tr>\n",
       "  </tbody>\n",
       "</table>\n",
       "</div>"
      ],
      "text/plain": [
       "   video_id  progressive_%  non_progressive_%  immotile_%\n",
       "0         1           0.38               0.31        0.12\n",
       "1         2           0.28               0.29        0.17\n",
       "2         3           0.31               0.30        0.16\n",
       "3         4           0.37               0.26        0.15\n",
       "4         5           0.30               0.35        0.19"
      ]
     },
     "execution_count": 4,
     "metadata": {},
     "output_type": "execute_result"
    }
   ],
   "source": [
    "task_1_pred = pd.read_csv('../gc20bio_Debut_motility_ver1.csv', sep=';'); task_1_pred.head()"
   ]
  },
  {
   "cell_type": "code",
   "execution_count": 5,
   "metadata": {},
   "outputs": [
    {
     "data": {
      "text/html": [
       "<div>\n",
       "<style scoped>\n",
       "    .dataframe tbody tr th:only-of-type {\n",
       "        vertical-align: middle;\n",
       "    }\n",
       "\n",
       "    .dataframe tbody tr th {\n",
       "        vertical-align: top;\n",
       "    }\n",
       "\n",
       "    .dataframe thead th {\n",
       "        text-align: right;\n",
       "    }\n",
       "</style>\n",
       "<table border=\"1\" class=\"dataframe\">\n",
       "  <thead>\n",
       "    <tr style=\"text-align: right;\">\n",
       "      <th></th>\n",
       "      <th>video_id</th>\n",
       "      <th>head_defect_%</th>\n",
       "      <th>midpiece_defect_%</th>\n",
       "      <th>tail_defect_%</th>\n",
       "    </tr>\n",
       "  </thead>\n",
       "  <tbody>\n",
       "    <tr>\n",
       "      <th>0</th>\n",
       "      <td>1</td>\n",
       "      <td>0.97</td>\n",
       "      <td>0.26</td>\n",
       "      <td>0.14</td>\n",
       "    </tr>\n",
       "    <tr>\n",
       "      <th>1</th>\n",
       "      <td>2</td>\n",
       "      <td>0.97</td>\n",
       "      <td>0.27</td>\n",
       "      <td>0.21</td>\n",
       "    </tr>\n",
       "    <tr>\n",
       "      <th>2</th>\n",
       "      <td>3</td>\n",
       "      <td>0.94</td>\n",
       "      <td>0.27</td>\n",
       "      <td>0.16</td>\n",
       "    </tr>\n",
       "    <tr>\n",
       "      <th>3</th>\n",
       "      <td>4</td>\n",
       "      <td>0.97</td>\n",
       "      <td>0.28</td>\n",
       "      <td>0.14</td>\n",
       "    </tr>\n",
       "    <tr>\n",
       "      <th>4</th>\n",
       "      <td>5</td>\n",
       "      <td>0.96</td>\n",
       "      <td>0.20</td>\n",
       "      <td>0.17</td>\n",
       "    </tr>\n",
       "  </tbody>\n",
       "</table>\n",
       "</div>"
      ],
      "text/plain": [
       "   video_id  head_defect_%  midpiece_defect_%  tail_defect_%\n",
       "0         1           0.97               0.26           0.14\n",
       "1         2           0.97               0.27           0.21\n",
       "2         3           0.94               0.27           0.16\n",
       "3         4           0.97               0.28           0.14\n",
       "4         5           0.96               0.20           0.17"
      ]
     },
     "execution_count": 5,
     "metadata": {},
     "output_type": "execute_result"
    }
   ],
   "source": [
    "task_2_pred = pd.read_csv('../gc20bio_Debut_morphology_ver1.csv', sep=';'); task_2_pred.head()"
   ]
  },
  {
   "cell_type": "code",
   "execution_count": 6,
   "metadata": {},
   "outputs": [
    {
     "data": {
      "text/html": [
       "<div>\n",
       "<style scoped>\n",
       "    .dataframe tbody tr th:only-of-type {\n",
       "        vertical-align: middle;\n",
       "    }\n",
       "\n",
       "    .dataframe tbody tr th {\n",
       "        vertical-align: top;\n",
       "    }\n",
       "\n",
       "    .dataframe thead th {\n",
       "        text-align: right;\n",
       "    }\n",
       "</style>\n",
       "<table border=\"1\" class=\"dataframe\">\n",
       "  <thead>\n",
       "    <tr style=\"text-align: right;\">\n",
       "      <th></th>\n",
       "      <th>ID</th>\n",
       "      <th>Sperm concentration (x10⁶/mL)</th>\n",
       "      <th>Total sperm count (x10⁶)</th>\n",
       "      <th>Ejaculate volume (mL)</th>\n",
       "      <th>Sperm vitality (%)</th>\n",
       "      <th>Normal spermatozoa (%)</th>\n",
       "      <th>Head defects (%)</th>\n",
       "      <th>Midpiece and neck defects (%)</th>\n",
       "      <th>Tail defects (%)</th>\n",
       "      <th>Cytoplasmic droplet (%)</th>\n",
       "      <th>Teratozoospermia index</th>\n",
       "      <th>Progressive motility (%)</th>\n",
       "      <th>Non progressive sperm motility (%)</th>\n",
       "      <th>Immotile sperm (%)</th>\n",
       "      <th>High DNA stainability, HDS (%)</th>\n",
       "      <th>DNA fragmentation index, DFI (%)</th>\n",
       "    </tr>\n",
       "  </thead>\n",
       "  <tbody>\n",
       "    <tr>\n",
       "      <th>0</th>\n",
       "      <td>1</td>\n",
       "      <td>105.3</td>\n",
       "      <td>363.1</td>\n",
       "      <td>3.5</td>\n",
       "      <td>81</td>\n",
       "      <td>2.0</td>\n",
       "      <td>98.0</td>\n",
       "      <td>11.2</td>\n",
       "      <td>38.0</td>\n",
       "      <td>3.4</td>\n",
       "      <td>1.54</td>\n",
       "      <td>51</td>\n",
       "      <td>19</td>\n",
       "      <td>30</td>\n",
       "      <td>13</td>\n",
       "      <td>29</td>\n",
       "    </tr>\n",
       "    <tr>\n",
       "      <th>1</th>\n",
       "      <td>2</td>\n",
       "      <td>45.4</td>\n",
       "      <td>141.6</td>\n",
       "      <td>3.1</td>\n",
       "      <td>50</td>\n",
       "      <td>3.0</td>\n",
       "      <td>97.0</td>\n",
       "      <td>8.5</td>\n",
       "      <td>24.5</td>\n",
       "      <td>2.0</td>\n",
       "      <td>1.36</td>\n",
       "      <td>22</td>\n",
       "      <td>16</td>\n",
       "      <td>62</td>\n",
       "      <td>13</td>\n",
       "      <td>57</td>\n",
       "    </tr>\n",
       "    <tr>\n",
       "      <th>2</th>\n",
       "      <td>3</td>\n",
       "      <td>50.0</td>\n",
       "      <td>124.5</td>\n",
       "      <td>2.5</td>\n",
       "      <td>90</td>\n",
       "      <td>6.9</td>\n",
       "      <td>90.6</td>\n",
       "      <td>32.8</td>\n",
       "      <td>14.3</td>\n",
       "      <td>1.5</td>\n",
       "      <td>1.51</td>\n",
       "      <td>18</td>\n",
       "      <td>26</td>\n",
       "      <td>56</td>\n",
       "      <td>11</td>\n",
       "      <td>12</td>\n",
       "    </tr>\n",
       "    <tr>\n",
       "      <th>3</th>\n",
       "      <td>4</td>\n",
       "      <td>42.9</td>\n",
       "      <td>103.8</td>\n",
       "      <td>2.4</td>\n",
       "      <td>80</td>\n",
       "      <td>2.8</td>\n",
       "      <td>96.5</td>\n",
       "      <td>24.1</td>\n",
       "      <td>23.1</td>\n",
       "      <td>5.2</td>\n",
       "      <td>1.53</td>\n",
       "      <td>33</td>\n",
       "      <td>26</td>\n",
       "      <td>41</td>\n",
       "      <td>10</td>\n",
       "      <td>15</td>\n",
       "    </tr>\n",
       "    <tr>\n",
       "      <th>4</th>\n",
       "      <td>5</td>\n",
       "      <td>32.8</td>\n",
       "      <td>158.7</td>\n",
       "      <td>4.8</td>\n",
       "      <td>90</td>\n",
       "      <td>3.2</td>\n",
       "      <td>95.0</td>\n",
       "      <td>32.5</td>\n",
       "      <td>15.7</td>\n",
       "      <td>7.0</td>\n",
       "      <td>1.56</td>\n",
       "      <td>43</td>\n",
       "      <td>22</td>\n",
       "      <td>35</td>\n",
       "      <td>21</td>\n",
       "      <td>13</td>\n",
       "    </tr>\n",
       "  </tbody>\n",
       "</table>\n",
       "</div>"
      ],
      "text/plain": [
       "   ID  Sperm concentration (x10⁶/mL)  Total sperm count (x10⁶)  \\\n",
       "0   1                          105.3                     363.1   \n",
       "1   2                           45.4                     141.6   \n",
       "2   3                           50.0                     124.5   \n",
       "3   4                           42.9                     103.8   \n",
       "4   5                           32.8                     158.7   \n",
       "\n",
       "   Ejaculate volume (mL)  Sperm vitality (%)  Normal spermatozoa (%)  \\\n",
       "0                    3.5                  81                     2.0   \n",
       "1                    3.1                  50                     3.0   \n",
       "2                    2.5                  90                     6.9   \n",
       "3                    2.4                  80                     2.8   \n",
       "4                    4.8                  90                     3.2   \n",
       "\n",
       "   Head defects (%)  Midpiece and neck defects (%)  Tail defects (%)  \\\n",
       "0              98.0                           11.2              38.0   \n",
       "1              97.0                            8.5              24.5   \n",
       "2              90.6                           32.8              14.3   \n",
       "3              96.5                           24.1              23.1   \n",
       "4              95.0                           32.5              15.7   \n",
       "\n",
       "   Cytoplasmic droplet (%)  Teratozoospermia index  Progressive motility (%)  \\\n",
       "0                      3.4                    1.54                        51   \n",
       "1                      2.0                    1.36                        22   \n",
       "2                      1.5                    1.51                        18   \n",
       "3                      5.2                    1.53                        33   \n",
       "4                      7.0                    1.56                        43   \n",
       "\n",
       "   Non progressive sperm motility (%)  Immotile sperm (%)  \\\n",
       "0                                  19                  30   \n",
       "1                                  16                  62   \n",
       "2                                  26                  56   \n",
       "3                                  26                  41   \n",
       "4                                  22                  35   \n",
       "\n",
       "   High DNA stainability, HDS (%)  DNA fragmentation index, DFI (%)  \n",
       "0                              13                                29  \n",
       "1                              13                                57  \n",
       "2                              11                                12  \n",
       "3                              10                                15  \n",
       "4                              21                                13  "
      ]
     },
     "execution_count": 6,
     "metadata": {},
     "output_type": "execute_result"
    }
   ],
   "source": [
    "gt = pd.read_csv('semen_analysis_data.csv', sep=';').applymap(data_convert); gt.head()"
   ]
  },
  {
   "cell_type": "markdown",
   "metadata": {},
   "source": [
    "# 期望"
   ]
  },
  {
   "cell_type": "markdown",
   "metadata": {},
   "source": [
    "non_progressive_sperm_motility: 6.997536945812808  \n",
    "progressive_sperm_motility: 10.348522167487685  \n",
    "immotile_sperm: 8.589901477832512  \n",
    "head Defects: 2.0457717569786538  \n",
    "Mid defects: 7.786412151067323  \n",
    "Tail Defects: 5.896428571428571"
   ]
  },
  {
   "cell_type": "markdown",
   "metadata": {},
   "source": [
    "# non progressive"
   ]
  },
  {
   "cell_type": "code",
   "execution_count": 15,
   "metadata": {},
   "outputs": [],
   "source": [
    "pred = np.array(task_1_pred['non_progressive_%']) * 100\n",
    "true = np.array(gt['Non progressive sperm motility (%)'])"
   ]
  },
  {
   "cell_type": "code",
   "execution_count": 16,
   "metadata": {},
   "outputs": [
    {
     "data": {
      "text/plain": [
       "10.576470588235294"
      ]
     },
     "execution_count": 16,
     "metadata": {},
     "output_type": "execute_result"
    }
   ],
   "source": [
    "mean_absolute_error(true, pred)"
   ]
  },
  {
   "cell_type": "markdown",
   "metadata": {},
   "source": [
    "# progressive"
   ]
  },
  {
   "cell_type": "code",
   "execution_count": 9,
   "metadata": {},
   "outputs": [],
   "source": [
    "pred = np.array(task_1_pred['progressive_%']) * 100\n",
    "true = np.array(gt['Progressive motility (%)'])"
   ]
  },
  {
   "cell_type": "code",
   "execution_count": 10,
   "metadata": {},
   "outputs": [
    {
     "data": {
      "text/plain": [
       "10.364705882352942"
      ]
     },
     "execution_count": 10,
     "metadata": {},
     "output_type": "execute_result"
    }
   ],
   "source": [
    "mean_absolute_error(true, pred)"
   ]
  },
  {
   "cell_type": "markdown",
   "metadata": {},
   "source": [
    "# immotile"
   ]
  },
  {
   "cell_type": "code",
   "execution_count": 11,
   "metadata": {},
   "outputs": [
    {
     "data": {
      "text/plain": [
       "16.376470588235293"
      ]
     },
     "execution_count": 11,
     "metadata": {},
     "output_type": "execute_result"
    }
   ],
   "source": [
    "pred = np.array(task_1_pred['immotile_%']) * 100\n",
    "true = np.array(gt['Immotile sperm (%)'])\n",
    "\n",
    "mean_absolute_error(true, pred)"
   ]
  },
  {
   "cell_type": "markdown",
   "metadata": {},
   "source": [
    "# head defects"
   ]
  },
  {
   "cell_type": "code",
   "execution_count": 12,
   "metadata": {},
   "outputs": [
    {
     "data": {
      "text/plain": [
       "1.4529411764705886"
      ]
     },
     "execution_count": 12,
     "metadata": {},
     "output_type": "execute_result"
    }
   ],
   "source": [
    "pred = np.array(task_2_pred['head_defect_%']) * 100\n",
    "true = np.array(gt['Head defects (%)'])\n",
    "\n",
    "mean_absolute_error(true, pred)"
   ]
  },
  {
   "cell_type": "markdown",
   "metadata": {},
   "source": [
    "# mid defects"
   ]
  },
  {
   "cell_type": "code",
   "execution_count": 13,
   "metadata": {},
   "outputs": [
    {
     "data": {
      "text/plain": [
       "7.785882352941178"
      ]
     },
     "execution_count": 13,
     "metadata": {},
     "output_type": "execute_result"
    }
   ],
   "source": [
    "pred = np.array(task_2_pred['midpiece_defect_%']) * 100\n",
    "true = np.array(gt['Midpiece and neck defects (%)'])\n",
    "\n",
    "mean_absolute_error(true, pred)"
   ]
  },
  {
   "cell_type": "markdown",
   "metadata": {},
   "source": [
    "# tail defects"
   ]
  },
  {
   "cell_type": "code",
   "execution_count": 14,
   "metadata": {},
   "outputs": [
    {
     "data": {
      "text/plain": [
       "5.429411764705882"
      ]
     },
     "execution_count": 14,
     "metadata": {},
     "output_type": "execute_result"
    }
   ],
   "source": [
    "pred = np.array(task_2_pred['tail_defect_%']) * 100\n",
    "true = np.array(gt['Tail defects (%)'])\n",
    "\n",
    "mean_absolute_error(true, pred)"
   ]
  },
  {
   "cell_type": "code",
   "execution_count": null,
   "metadata": {},
   "outputs": [],
   "source": []
  }
 ],
 "metadata": {
  "kernelspec": {
   "display_name": "Python 3",
   "language": "python",
   "name": "python3"
  },
  "language_info": {
   "codemirror_mode": {
    "name": "ipython",
    "version": 3
   },
   "file_extension": ".py",
   "mimetype": "text/x-python",
   "name": "python",
   "nbconvert_exporter": "python",
   "pygments_lexer": "ipython3",
   "version": "3.7.3"
  }
 },
 "nbformat": 4,
 "nbformat_minor": 2
}
